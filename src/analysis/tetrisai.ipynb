{
 "cells": [
  {
   "cell_type": "code",
   "execution_count": 1,
   "id": "cf494e26",
   "metadata": {
    "_cell_guid": "b1076dfc-b9ad-4769-8c92-a6c4dae69d19",
    "_uuid": "8f2839f25d086af736a60e9eeb907d3b93b6e0e5",
    "execution": {
     "iopub.execute_input": "2022-04-19T22:46:39.797370Z",
     "iopub.status.busy": "2022-04-19T22:46:39.795896Z",
     "iopub.status.idle": "2022-04-19T22:46:39.807931Z",
     "shell.execute_reply": "2022-04-19T22:46:39.807293Z",
     "shell.execute_reply.started": "2022-04-19T21:47:37.101136Z"
    },
    "papermill": {
     "duration": 0.069418,
     "end_time": "2022-04-19T22:46:39.808241",
     "exception": true,
     "start_time": "2022-04-19T22:46:39.738823",
     "status": "failed"
    },
    "tags": []
   },
   "outputs": [
    {
     "ename": "SyntaxError",
     "evalue": "trailing comma not allowed without surrounding parentheses (806870960.py, line 7)",
     "output_type": "error",
     "traceback": [
      "\u001b[0;36m  File \u001b[0;32m\"/tmp/ipykernel_23/806870960.py\"\u001b[0;36m, line \u001b[0;32m7\u001b[0m\n\u001b[0;31m    from tensorflow.keras.layers import Conv2D, Lambda, MaxPooling2D,\u001b[0m\n\u001b[0m                                       ^\u001b[0m\n\u001b[0;31mSyntaxError\u001b[0m\u001b[0;31m:\u001b[0m trailing comma not allowed without surrounding parentheses\n"
     ]
    }
   ],
   "source": [
    "\n",
    "import numpy as np\n",
    "from sklearn.metrics import classification_report\n",
    "from sklearn.preprocessing import LabelEncoder\n",
    "from sklearn.preprocessing import OneHotEncoder\n",
    "import tensorflow as tf\n",
    "from tensorflow.keras.models import Sequential\n",
    "from tensorflow.keras.layers import Conv2D, Lambda, MaxPooling2D,\n",
    "Flatten,ZeroPadding2D, BatchNormalization, Dense,Dropout,Activation,AveragePooling2D\n",
    "from keras.layers import Input\n",
    "from keras import regularizers\n",
    "import numpy as np # linear algebra\n",
    "import pandas as pd # data processing, CSV file I/O (e.g. pd.read_csv)\n"
   ]
  },
  {
   "cell_type": "markdown",
   "id": "ffedef90",
   "metadata": {
    "papermill": {
     "duration": null,
     "end_time": null,
     "exception": null,
     "start_time": null,
     "status": "pending"
    },
    "tags": []
   },
   "source": [
    "### Load scrapped moves and grids"
   ]
  },
  {
   "cell_type": "code",
   "execution_count": null,
   "id": "1442a2f6",
   "metadata": {
    "execution": {
     "iopub.execute_input": "2022-04-19T08:16:53.499095Z",
     "iopub.status.busy": "2022-04-19T08:16:53.498589Z",
     "iopub.status.idle": "2022-04-19T08:16:53.675476Z",
     "shell.execute_reply": "2022-04-19T08:16:53.674728Z",
     "shell.execute_reply.started": "2022-04-19T08:16:53.499061Z"
    },
    "papermill": {
     "duration": null,
     "end_time": null,
     "exception": null,
     "start_time": null,
     "status": "pending"
    },
    "tags": []
   },
   "outputs": [],
   "source": [
    "moves = pd.read_csv('/kaggle/input/tetris/finalmoves.csv')"
   ]
  },
  {
   "cell_type": "code",
   "execution_count": null,
   "id": "5b3dd90d",
   "metadata": {
    "execution": {
     "iopub.execute_input": "2022-04-19T08:16:55.267411Z",
     "iopub.status.busy": "2022-04-19T08:16:55.267134Z",
     "iopub.status.idle": "2022-04-19T08:21:16.019137Z",
     "shell.execute_reply": "2022-04-19T08:21:16.01807Z",
     "shell.execute_reply.started": "2022-04-19T08:16:55.267374Z"
    },
    "papermill": {
     "duration": null,
     "end_time": null,
     "exception": null,
     "start_time": null,
     "status": "pending"
    },
    "tags": []
   },
   "outputs": [],
   "source": [
    "grids = np.loadtxt('/kaggle/input/tetris/finalgrid.csv', delimiter=',')"
   ]
  },
  {
   "cell_type": "code",
   "execution_count": null,
   "id": "eb636b1a",
   "metadata": {
    "execution": {
     "iopub.execute_input": "2022-04-19T08:21:16.02138Z",
     "iopub.status.busy": "2022-04-19T08:21:16.020938Z",
     "iopub.status.idle": "2022-04-19T08:21:16.025802Z",
     "shell.execute_reply": "2022-04-19T08:21:16.025137Z",
     "shell.execute_reply.started": "2022-04-19T08:21:16.021328Z"
    },
    "papermill": {
     "duration": null,
     "end_time": null,
     "exception": null,
     "start_time": null,
     "status": "pending"
    },
    "tags": []
   },
   "outputs": [],
   "source": [
    "# reshape grids into (20,10)\n",
    "grids = grids.reshape((int(grids.shape[0]/20),20,10))"
   ]
  },
  {
   "cell_type": "markdown",
   "id": "ecadd149",
   "metadata": {
    "papermill": {
     "duration": null,
     "end_time": null,
     "exception": null,
     "start_time": null,
     "status": "pending"
    },
    "tags": []
   },
   "source": [
    "### Create additional variable, height of each column of tetris grid"
   ]
  },
  {
   "cell_type": "code",
   "execution_count": null,
   "id": "6008e955",
   "metadata": {
    "execution": {
     "iopub.execute_input": "2022-04-19T14:31:04.92974Z",
     "iopub.status.busy": "2022-04-19T14:31:04.929475Z",
     "iopub.status.idle": "2022-04-19T14:31:04.936106Z",
     "shell.execute_reply": "2022-04-19T14:31:04.935342Z",
     "shell.execute_reply.started": "2022-04-19T14:31:04.929706Z"
    },
    "papermill": {
     "duration": null,
     "end_time": null,
     "exception": null,
     "start_time": null,
     "status": "pending"
    },
    "tags": []
   },
   "outputs": [],
   "source": [
    "def get_height(grid):\n",
    "        locked = np.zeros(10)\n",
    "        for i, column in enumerate(grid.T):\n",
    "            j = 19\n",
    "            height = 0\n",
    "            while column[j] and j >= 0:\n",
    "                height += 1\n",
    "                j -= 1\n",
    "            if locked[i] != height:\n",
    "                locked[i] = height\n",
    "        return locked"
   ]
  },
  {
   "cell_type": "code",
   "execution_count": null,
   "id": "63800c9d",
   "metadata": {
    "execution": {
     "iopub.execute_input": "2022-04-19T08:21:16.038853Z",
     "iopub.status.busy": "2022-04-19T08:21:16.038182Z",
     "iopub.status.idle": "2022-04-19T08:21:43.504002Z",
     "shell.execute_reply": "2022-04-19T08:21:43.503199Z",
     "shell.execute_reply.started": "2022-04-19T08:21:16.038816Z"
    },
    "papermill": {
     "duration": null,
     "end_time": null,
     "exception": null,
     "start_time": null,
     "status": "pending"
    },
    "tags": []
   },
   "outputs": [],
   "source": [
    "heights = np.zeros((grids.shape[0],10))\n",
    "for i, grid in enumerate(grids):\n",
    "    heights[i] = get_height(grid)"
   ]
  },
  {
   "cell_type": "markdown",
   "id": "81bc6084",
   "metadata": {
    "papermill": {
     "duration": null,
     "end_time": null,
     "exception": null,
     "start_time": null,
     "status": "pending"
    },
    "tags": []
   },
   "source": [
    "#### Check if shape is the same"
   ]
  },
  {
   "cell_type": "code",
   "execution_count": null,
   "id": "e857ed71",
   "metadata": {
    "execution": {
     "iopub.execute_input": "2022-04-19T08:21:43.505797Z",
     "iopub.status.busy": "2022-04-19T08:21:43.505495Z",
     "iopub.status.idle": "2022-04-19T08:21:43.510295Z",
     "shell.execute_reply": "2022-04-19T08:21:43.509483Z",
     "shell.execute_reply.started": "2022-04-19T08:21:43.505725Z"
    },
    "papermill": {
     "duration": null,
     "end_time": null,
     "exception": null,
     "start_time": null,
     "status": "pending"
    },
    "tags": []
   },
   "outputs": [],
   "source": [
    "assert grids.shape[0]== moves.shape[0]\n",
    "assert grids.shape[0]== heights.shape[0]"
   ]
  },
  {
   "cell_type": "code",
   "execution_count": null,
   "id": "f7d1348c",
   "metadata": {
    "execution": {
     "iopub.execute_input": "2022-04-19T08:21:43.512331Z",
     "iopub.status.busy": "2022-04-19T08:21:43.512058Z",
     "iopub.status.idle": "2022-04-19T08:21:49.267096Z",
     "shell.execute_reply": "2022-04-19T08:21:49.266344Z",
     "shell.execute_reply.started": "2022-04-19T08:21:43.512293Z"
    },
    "papermill": {
     "duration": null,
     "end_time": null,
     "exception": null,
     "start_time": null,
     "status": "pending"
    },
    "tags": []
   },
   "outputs": [],
   "source": [
    "with open(\"heights.csv\", \"a\") as outfile:\n",
    "    np.savetxt(outfile, heights, fmt=\"%i\", delimiter=\",\")"
   ]
  },
  {
   "cell_type": "markdown",
   "id": "80ac5fe8",
   "metadata": {
    "papermill": {
     "duration": null,
     "end_time": null,
     "exception": null,
     "start_time": null,
     "status": "pending"
    },
    "tags": []
   },
   "source": [
    "##### Analyze Height distribution"
   ]
  },
  {
   "cell_type": "code",
   "execution_count": null,
   "id": "336f06fa",
   "metadata": {
    "execution": {
     "iopub.execute_input": "2022-04-19T14:34:43.966045Z",
     "iopub.status.busy": "2022-04-19T14:34:43.965243Z",
     "iopub.status.idle": "2022-04-19T14:34:43.972291Z",
     "shell.execute_reply": "2022-04-19T14:34:43.971354Z",
     "shell.execute_reply.started": "2022-04-19T14:34:43.965996Z"
    },
    "papermill": {
     "duration": null,
     "end_time": null,
     "exception": null,
     "start_time": null,
     "status": "pending"
    },
    "tags": []
   },
   "outputs": [],
   "source": [
    "# heights dist\n",
    "def height_dist(heights):\n",
    "    fig, axs = plt.subplots(2, 5,figsize=(15,17))\n",
    "    \n",
    "    i = 0\n",
    "    for col in range(5):\n",
    "        for row in range(2):\n",
    "            axs[row,col].hist(heights.T[i])\n",
    "            axs[row, col].set_title(f'Column {i+1}')\n",
    "            \n",
    "            i+=1\n",
    "    plt.suptitle('Height distribution')\n",
    "    fig.savefig('heights.png')\n"
   ]
  },
  {
   "cell_type": "markdown",
   "id": "f73e658f",
   "metadata": {
    "papermill": {
     "duration": null,
     "end_time": null,
     "exception": null,
     "start_time": null,
     "status": "pending"
    },
    "tags": []
   },
   "source": [
    "##### Analyze Move distribution"
   ]
  },
  {
   "cell_type": "code",
   "execution_count": null,
   "id": "93aa30be",
   "metadata": {
    "execution": {
     "iopub.execute_input": "2022-04-19T08:21:49.277645Z",
     "iopub.status.busy": "2022-04-19T08:21:49.27708Z",
     "iopub.status.idle": "2022-04-19T08:21:49.792693Z",
     "shell.execute_reply": "2022-04-19T08:21:49.791985Z",
     "shell.execute_reply.started": "2022-04-19T08:21:49.277607Z"
    },
    "papermill": {
     "duration": null,
     "end_time": null,
     "exception": null,
     "start_time": null,
     "status": "pending"
    },
    "tags": []
   },
   "outputs": [],
   "source": [
    "def pie(moves):\n",
    "    plt.pie(moves['move'].value_counts(),autopct='%1.1f%%')\n",
    "    plt.title(\"Moves\", loc = 'center')\n",
    "    plt.legend(moves['move'].unique(),loc='upper right')\n",
    "    fig = plt.gcf()\n",
    "    fig.set_size_inches(18.5, 10.5)\n",
    "    plt.show()\n",
    "    fig.savefig('moves.png')\n",
    "pie(moves)"
   ]
  },
  {
   "cell_type": "markdown",
   "id": "40e9b088",
   "metadata": {
    "papermill": {
     "duration": null,
     "end_time": null,
     "exception": null,
     "start_time": null,
     "status": "pending"
    },
    "tags": []
   },
   "source": [
    "#### Devide moves into:\n",
    "    2* 46749 - DOWN\n",
    "    46749 -    LEFT\n",
    "    46749 -    RIGHT\n",
    "    20749 -    ROT"
   ]
  },
  {
   "cell_type": "code",
   "execution_count": null,
   "id": "d0d914ac",
   "metadata": {
    "execution": {
     "iopub.execute_input": "2022-04-19T08:21:49.794135Z",
     "iopub.status.busy": "2022-04-19T08:21:49.793872Z",
     "iopub.status.idle": "2022-04-19T08:21:49.889096Z",
     "shell.execute_reply": "2022-04-19T08:21:49.888367Z",
     "shell.execute_reply.started": "2022-04-19T08:21:49.794098Z"
    },
    "papermill": {
     "duration": null,
     "end_time": null,
     "exception": null,
     "start_time": null,
     "status": "pending"
    },
    "tags": []
   },
   "outputs": [],
   "source": [
    "def delete(moves, grid, heights):\n",
    "    lenght = moves[moves['move'] == 'DOWN'].shape[0]\n",
    "    down = np.random.randint(0,lenght, 2*46749)\n",
    "    _ = moves[moves['move'] == 'DOWN'].iloc[down]\n",
    "    down = _.index\n",
    "    \n",
    "    lenght = moves[moves['move'] == 'RIGHT'].shape[0]\n",
    "    right = np.random.randint(0,lenght, 46749)\n",
    "    _ = moves[moves['move'] == 'RIGHT'].iloc[right]\n",
    "    right = _.index\n",
    "    \n",
    "    lenght = moves[moves['move'] == 'ROT'].shape[0]\n",
    "    rot = np.random.randint(0,lenght, 20749)\n",
    "    _ = moves[moves['move'] == 'ROT'].iloc[rot]\n",
    "    rot = _.index\n",
    "    left = moves[moves['move'] == 'LEFT'].index\n",
    "    \n",
    "    indeces = np.hstack((down, right, rot, left))\n",
    "    \n",
    "    return moves.iloc[indeces], grid[indeces], heights[indeces]"
   ]
  },
  {
   "cell_type": "code",
   "execution_count": null,
   "id": "97f8900b",
   "metadata": {
    "execution": {
     "iopub.execute_input": "2022-04-19T08:21:49.892463Z",
     "iopub.status.busy": "2022-04-19T08:21:49.892039Z",
     "iopub.status.idle": "2022-04-19T08:21:51.191643Z",
     "shell.execute_reply": "2022-04-19T08:21:51.190637Z",
     "shell.execute_reply.started": "2022-04-19T08:21:49.892422Z"
    },
    "papermill": {
     "duration": null,
     "end_time": null,
     "exception": null,
     "start_time": null,
     "status": "pending"
    },
    "tags": []
   },
   "outputs": [],
   "source": [
    "m, g,h = delete(moves, grids, heights)"
   ]
  },
  {
   "cell_type": "code",
   "execution_count": null,
   "id": "f423dd71",
   "metadata": {
    "execution": {
     "iopub.execute_input": "2022-04-19T08:21:51.20136Z",
     "iopub.status.busy": "2022-04-19T08:21:51.19785Z",
     "iopub.status.idle": "2022-04-19T08:21:51.605211Z",
     "shell.execute_reply": "2022-04-19T08:21:51.604463Z",
     "shell.execute_reply.started": "2022-04-19T08:21:51.201303Z"
    },
    "papermill": {
     "duration": null,
     "end_time": null,
     "exception": null,
     "start_time": null,
     "status": "pending"
    },
    "tags": []
   },
   "outputs": [],
   "source": [
    "pie(m)"
   ]
  },
  {
   "cell_type": "markdown",
   "id": "9ffd7231",
   "metadata": {
    "papermill": {
     "duration": null,
     "end_time": null,
     "exception": null,
     "start_time": null,
     "status": "pending"
    },
    "tags": []
   },
   "source": [
    "Mirror grids"
   ]
  },
  {
   "cell_type": "code",
   "execution_count": null,
   "id": "73ce9704",
   "metadata": {
    "execution": {
     "iopub.execute_input": "2022-04-19T08:21:51.606761Z",
     "iopub.status.busy": "2022-04-19T08:21:51.60645Z",
     "iopub.status.idle": "2022-04-19T08:21:53.098266Z",
     "shell.execute_reply": "2022-04-19T08:21:53.097594Z",
     "shell.execute_reply.started": "2022-04-19T08:21:51.606687Z"
    },
    "papermill": {
     "duration": null,
     "end_time": null,
     "exception": null,
     "start_time": null,
     "status": "pending"
    },
    "tags": []
   },
   "outputs": [],
   "source": [
    "height_dist(np.hstack((h,np.fliplr(h))))"
   ]
  },
  {
   "cell_type": "markdown",
   "id": "22c2b7c3",
   "metadata": {
    "papermill": {
     "duration": null,
     "end_time": null,
     "exception": null,
     "start_time": null,
     "status": "pending"
    },
    "tags": []
   },
   "source": [
    "Add random height between 1,4 to last column"
   ]
  },
  {
   "cell_type": "code",
   "execution_count": null,
   "id": "db5c4f3b",
   "metadata": {
    "execution": {
     "iopub.execute_input": "2022-04-19T08:21:53.100762Z",
     "iopub.status.busy": "2022-04-19T08:21:53.099879Z",
     "iopub.status.idle": "2022-04-19T08:21:54.746341Z",
     "shell.execute_reply": "2022-04-19T08:21:54.74552Z",
     "shell.execute_reply.started": "2022-04-19T08:21:53.100716Z"
    },
    "papermill": {
     "duration": null,
     "end_time": null,
     "exception": null,
     "start_time": null,
     "status": "pending"
    },
    "tags": []
   },
   "outputs": [],
   "source": [
    "g1 = g.copy()\n",
    "h1 = h.copy()\n",
    "def fill_column(grids, heights):\n",
    "    for i, grid in enumerate(grids):\n",
    "        if not i %2==0:\n",
    "            height = np.random.randint(1,4)\n",
    "            grid.T[9][19-height:20] =1 \n",
    "            heights[i][9] = height\n",
    "            \n",
    "height_dist(h1)"
   ]
  },
  {
   "cell_type": "code",
   "execution_count": null,
   "id": "45a069c7",
   "metadata": {
    "execution": {
     "iopub.execute_input": "2022-04-19T08:21:54.748412Z",
     "iopub.status.busy": "2022-04-19T08:21:54.747695Z",
     "iopub.status.idle": "2022-04-19T08:21:54.754274Z",
     "shell.execute_reply": "2022-04-19T08:21:54.753327Z",
     "shell.execute_reply.started": "2022-04-19T08:21:54.748373Z"
    },
    "papermill": {
     "duration": null,
     "end_time": null,
     "exception": null,
     "start_time": null,
     "status": "pending"
    },
    "tags": []
   },
   "outputs": [],
   "source": [
    "indeces = np.random.randint(0, h.shape[0],int(h.shape[0]/2))"
   ]
  },
  {
   "cell_type": "code",
   "execution_count": null,
   "id": "b453f676",
   "metadata": {
    "execution": {
     "iopub.execute_input": "2022-04-19T08:21:54.75606Z",
     "iopub.status.busy": "2022-04-19T08:21:54.755774Z",
     "iopub.status.idle": "2022-04-19T08:21:55.530133Z",
     "shell.execute_reply": "2022-04-19T08:21:55.529376Z",
     "shell.execute_reply.started": "2022-04-19T08:21:54.756025Z"
    },
    "papermill": {
     "duration": null,
     "end_time": null,
     "exception": null,
     "start_time": null,
     "status": "pending"
    },
    "tags": []
   },
   "outputs": [],
   "source": [
    "fill_column(g1, h1)"
   ]
  },
  {
   "cell_type": "code",
   "execution_count": null,
   "id": "973647b9",
   "metadata": {
    "execution": {
     "iopub.execute_input": "2022-04-19T08:21:55.531902Z",
     "iopub.status.busy": "2022-04-19T08:21:55.531567Z",
     "iopub.status.idle": "2022-04-19T08:21:57.100281Z",
     "shell.execute_reply": "2022-04-19T08:21:57.099607Z",
     "shell.execute_reply.started": "2022-04-19T08:21:55.531813Z"
    },
    "papermill": {
     "duration": null,
     "end_time": null,
     "exception": null,
     "start_time": null,
     "status": "pending"
    },
    "tags": []
   },
   "outputs": [],
   "source": [
    "height_dist(np.fliplr(h[h.T[0] != 0]))"
   ]
  },
  {
   "cell_type": "code",
   "execution_count": null,
   "id": "305fa89b",
   "metadata": {
    "execution": {
     "iopub.execute_input": "2022-04-19T08:21:57.102258Z",
     "iopub.status.busy": "2022-04-19T08:21:57.101753Z",
     "iopub.status.idle": "2022-04-19T08:21:57.232798Z",
     "shell.execute_reply": "2022-04-19T08:21:57.232036Z",
     "shell.execute_reply.started": "2022-04-19T08:21:57.102218Z"
    },
    "papermill": {
     "duration": null,
     "end_time": null,
     "exception": null,
     "start_time": null,
     "status": "pending"
    },
    "tags": []
   },
   "outputs": [],
   "source": [
    "flipped =np.vstack((h1,np.fliplr(h[h.T[0] != 0]))).copy()\n",
    "indeces = []\n",
    "for i, element in enumerate(flipped.T[0]==0):\n",
    "    if element:\n",
    "        if i% 3==0:\n",
    "            indeces.append(i)\n",
    "    else:\n",
    "        indeces.append(i)"
   ]
  },
  {
   "cell_type": "code",
   "execution_count": null,
   "id": "62b7049a",
   "metadata": {
    "execution": {
     "iopub.execute_input": "2022-04-19T08:21:57.234562Z",
     "iopub.status.busy": "2022-04-19T08:21:57.234256Z",
     "iopub.status.idle": "2022-04-19T08:21:58.902476Z",
     "shell.execute_reply": "2022-04-19T08:21:58.901771Z",
     "shell.execute_reply.started": "2022-04-19T08:21:57.234524Z"
    },
    "papermill": {
     "duration": null,
     "end_time": null,
     "exception": null,
     "start_time": null,
     "status": "pending"
    },
    "tags": []
   },
   "outputs": [],
   "source": [
    "height_dist(np.vstack((h1,np.fliplr(h[h.T[0] != 0])))[np.array(indeces)])"
   ]
  },
  {
   "cell_type": "code",
   "execution_count": null,
   "id": "fe664d00",
   "metadata": {
    "execution": {
     "iopub.execute_input": "2022-04-19T08:21:58.907805Z",
     "iopub.status.busy": "2022-04-19T08:21:58.906991Z",
     "iopub.status.idle": "2022-04-19T08:21:58.997259Z",
     "shell.execute_reply": "2022-04-19T08:21:58.996621Z",
     "shell.execute_reply.started": "2022-04-19T08:21:58.907766Z"
    },
    "papermill": {
     "duration": null,
     "end_time": null,
     "exception": null,
     "start_time": null,
     "status": "pending"
    },
    "tags": []
   },
   "outputs": [],
   "source": [
    "indeces1 = []\n",
    "for i, element in enumerate(h.T[0] != 0):\n",
    "    if element:\n",
    "            indeces1.append(i)"
   ]
  },
  {
   "cell_type": "code",
   "execution_count": null,
   "id": "b37c9d16",
   "metadata": {
    "execution": {
     "iopub.execute_input": "2022-04-19T08:21:59.005947Z",
     "iopub.status.busy": "2022-04-19T08:21:59.002381Z",
     "iopub.status.idle": "2022-04-19T08:21:59.15738Z",
     "shell.execute_reply": "2022-04-19T08:21:59.156568Z",
     "shell.execute_reply.started": "2022-04-19T08:21:59.005908Z"
    },
    "papermill": {
     "duration": null,
     "end_time": null,
     "exception": null,
     "start_time": null,
     "status": "pending"
    },
    "tags": []
   },
   "outputs": [],
   "source": [
    "g = g[indeces1]"
   ]
  },
  {
   "cell_type": "code",
   "execution_count": null,
   "id": "f8b19369",
   "metadata": {
    "execution": {
     "iopub.execute_input": "2022-04-19T08:21:59.168715Z",
     "iopub.status.busy": "2022-04-19T08:21:59.164886Z",
     "iopub.status.idle": "2022-04-19T08:22:00.262416Z",
     "shell.execute_reply": "2022-04-19T08:22:00.261656Z",
     "shell.execute_reply.started": "2022-04-19T08:21:59.16866Z"
    },
    "papermill": {
     "duration": null,
     "end_time": null,
     "exception": null,
     "start_time": null,
     "status": "pending"
    },
    "tags": []
   },
   "outputs": [],
   "source": [
    "for grid in g:\n",
    "    np.fliplr(grid)\n",
    "finalgrids = np.vstack((g1,g))[np.array(indeces)]"
   ]
  },
  {
   "cell_type": "markdown",
   "id": "c684a230",
   "metadata": {
    "papermill": {
     "duration": null,
     "end_time": null,
     "exception": null,
     "start_time": null,
     "status": "pending"
    },
    "tags": []
   },
   "source": [
    "Flip moves:\n",
    "    RIGHT -> LEFT\n",
    "    LEFT -> RIGHT"
   ]
  },
  {
   "cell_type": "code",
   "execution_count": null,
   "id": "5a58cae5",
   "metadata": {
    "execution": {
     "iopub.execute_input": "2022-04-19T08:27:01.615593Z",
     "iopub.status.busy": "2022-04-19T08:27:01.615318Z",
     "iopub.status.idle": "2022-04-19T08:27:01.700768Z",
     "shell.execute_reply": "2022-04-19T08:27:01.700048Z",
     "shell.execute_reply.started": "2022-04-19T08:27:01.615562Z"
    },
    "papermill": {
     "duration": null,
     "end_time": null,
     "exception": null,
     "start_time": null,
     "status": "pending"
    },
    "tags": []
   },
   "outputs": [],
   "source": [
    "m = m.reset_index()\n",
    "m1 = m.copy()\n",
    "m = m.iloc[indeces1].reset_index()\n",
    "m = m['move'].to_numpy()\n",
    "for i, move in enumerate(m):\n",
    "    if move == \"RIGHT\":\n",
    "        m[i] = \"LEFT\"\n",
    "    elif move == \"LEFT\":\n",
    "        m[i] = \"RIGHT\"\n"
   ]
  },
  {
   "cell_type": "code",
   "execution_count": null,
   "id": "e9969f1a",
   "metadata": {
    "execution": {
     "iopub.execute_input": "2022-04-19T08:27:22.933351Z",
     "iopub.status.busy": "2022-04-19T08:27:22.932788Z",
     "iopub.status.idle": "2022-04-19T08:27:22.937379Z",
     "shell.execute_reply": "2022-04-19T08:27:22.936682Z",
     "shell.execute_reply.started": "2022-04-19T08:27:22.93331Z"
    },
    "papermill": {
     "duration": null,
     "end_time": null,
     "exception": null,
     "start_time": null,
     "status": "pending"
    },
    "tags": []
   },
   "outputs": [],
   "source": [
    "m = pd.DataFrame(m,columns = [\"move\"])\n"
   ]
  },
  {
   "cell_type": "code",
   "execution_count": null,
   "id": "91e43192",
   "metadata": {
    "execution": {
     "iopub.execute_input": "2022-04-19T08:28:02.016204Z",
     "iopub.status.busy": "2022-04-19T08:28:02.015618Z",
     "iopub.status.idle": "2022-04-19T08:28:02.023587Z",
     "shell.execute_reply": "2022-04-19T08:28:02.022743Z",
     "shell.execute_reply.started": "2022-04-19T08:28:02.016164Z"
    },
    "papermill": {
     "duration": null,
     "end_time": null,
     "exception": null,
     "start_time": null,
     "status": "pending"
    },
    "tags": []
   },
   "outputs": [],
   "source": [
    "m1 = m1.drop(['index'], axis=1)"
   ]
  },
  {
   "cell_type": "code",
   "execution_count": null,
   "id": "750648f5",
   "metadata": {
    "execution": {
     "iopub.execute_input": "2022-04-19T08:31:20.179173Z",
     "iopub.status.busy": "2022-04-19T08:31:20.178554Z",
     "iopub.status.idle": "2022-04-19T08:31:20.2242Z",
     "shell.execute_reply": "2022-04-19T08:31:20.223481Z",
     "shell.execute_reply.started": "2022-04-19T08:31:20.179131Z"
    },
    "papermill": {
     "duration": null,
     "end_time": null,
     "exception": null,
     "start_time": null,
     "status": "pending"
    },
    "tags": []
   },
   "outputs": [],
   "source": [
    "finalmoves = pd.concat([m1,m]).iloc[indeces]"
   ]
  },
  {
   "cell_type": "code",
   "execution_count": null,
   "id": "7666c988",
   "metadata": {
    "papermill": {
     "duration": null,
     "end_time": null,
     "exception": null,
     "start_time": null,
     "status": "pending"
    },
    "tags": []
   },
   "outputs": [],
   "source": [
    "bad_grids = []\n",
    "for i, grid in enumerate(finalgrids):\n",
    "    if not np.any(grid):\n",
    "        bad_grids.append(i)\n",
    "non_zero = np.array(list(set(np.arange((finalmoves.shape[0]))) - set(bad_grids)))"
   ]
  },
  {
   "cell_type": "code",
   "execution_count": null,
   "id": "9ed5d192",
   "metadata": {
    "execution": {
     "iopub.execute_input": "2022-04-19T08:52:28.938336Z",
     "iopub.status.busy": "2022-04-19T08:52:28.938071Z",
     "iopub.status.idle": "2022-04-19T08:52:29.07363Z",
     "shell.execute_reply": "2022-04-19T08:52:29.072852Z",
     "shell.execute_reply.started": "2022-04-19T08:52:28.938307Z"
    },
    "papermill": {
     "duration": null,
     "end_time": null,
     "exception": null,
     "start_time": null,
     "status": "pending"
    },
    "tags": []
   },
   "outputs": [],
   "source": [
    "finalmoves = finalmoves.iloc[non_zero]\n",
    "finalgrids = finalgrids[non_zero]"
   ]
  },
  {
   "cell_type": "code",
   "execution_count": null,
   "id": "5acb9d0c",
   "metadata": {
    "execution": {
     "iopub.execute_input": "2022-04-19T14:45:37.101951Z",
     "iopub.status.busy": "2022-04-19T14:45:37.10126Z",
     "iopub.status.idle": "2022-04-19T14:45:37.581803Z",
     "shell.execute_reply": "2022-04-19T14:45:37.581044Z",
     "shell.execute_reply.started": "2022-04-19T14:45:37.101914Z"
    },
    "papermill": {
     "duration": null,
     "end_time": null,
     "exception": null,
     "start_time": null,
     "status": "pending"
    },
    "tags": []
   },
   "outputs": [],
   "source": [
    "finalmoves.drop('Unnamed: 0', axis = 1).to_csv('finalmoves.csv')"
   ]
  },
  {
   "cell_type": "code",
   "execution_count": null,
   "id": "a6a74189",
   "metadata": {
    "execution": {
     "iopub.execute_input": "2022-04-19T08:50:09.39188Z",
     "iopub.status.busy": "2022-04-19T08:50:09.391293Z",
     "iopub.status.idle": "2022-04-19T08:50:41.616283Z",
     "shell.execute_reply": "2022-04-19T08:50:41.615556Z",
     "shell.execute_reply.started": "2022-04-19T08:50:09.391839Z"
    },
    "papermill": {
     "duration": null,
     "end_time": null,
     "exception": null,
     "start_time": null,
     "status": "pending"
    },
    "tags": []
   },
   "outputs": [],
   "source": [
    "with open(\"finalgrids.csv\", \"a\") as outfile:\n",
    "            for slice_2d in finalgrids:\n",
    "                np.savetxt(outfile, slice_2d, fmt=\"%i\", delimiter=\",\")"
   ]
  },
  {
   "cell_type": "code",
   "execution_count": null,
   "id": "16ebea81",
   "metadata": {
    "execution": {
     "iopub.execute_input": "2022-04-19T14:30:04.36943Z",
     "iopub.status.busy": "2022-04-19T14:30:04.36915Z",
     "iopub.status.idle": "2022-04-19T14:31:04.927994Z",
     "shell.execute_reply": "2022-04-19T14:31:04.927187Z",
     "shell.execute_reply.started": "2022-04-19T14:30:04.369399Z"
    },
    "papermill": {
     "duration": null,
     "end_time": null,
     "exception": null,
     "start_time": null,
     "status": "pending"
    },
    "tags": []
   },
   "outputs": [],
   "source": [
    "heights = np.zeros((finalgrids.shape[0],10))\n",
    "for i, grid in enumerate(finalgrids ):\n",
    "    heights[i] = get_height(grid)\n",
    "with open(\"finalheights.csv\", \"a\") as outfile:\n",
    "    np.savetxt(outfile,heights , fmt=\"%i\", delimiter=\",\")"
   ]
  },
  {
   "cell_type": "markdown",
   "id": "cffe63db",
   "metadata": {
    "papermill": {
     "duration": null,
     "end_time": null,
     "exception": null,
     "start_time": null,
     "status": "pending"
    },
    "tags": []
   },
   "source": [
    "## Model "
   ]
  },
  {
   "cell_type": "code",
   "execution_count": null,
   "id": "e2a24622",
   "metadata": {
    "execution": {
     "iopub.execute_input": "2022-04-19T21:47:51.564831Z",
     "iopub.status.busy": "2022-04-19T21:47:51.564079Z",
     "iopub.status.idle": "2022-04-19T21:48:52.153924Z",
     "shell.execute_reply": "2022-04-19T21:48:52.153191Z",
     "shell.execute_reply.started": "2022-04-19T21:47:51.564791Z"
    },
    "papermill": {
     "duration": null,
     "end_time": null,
     "exception": null,
     "start_time": null,
     "status": "pending"
    },
    "tags": []
   },
   "outputs": [],
   "source": [
    "finalmoves = pd.read_csv('/kaggle/input/finaltetris/finalmoves.csv')\n",
    "finalgrids = np.loadtxt('/kaggle/input/finaltetris/finalgrids.csv', delimiter=\",\")\n",
    "finalgrids = finalgrids.reshape((int(finalgrids.shape[0]/20),20,10))"
   ]
  },
  {
   "cell_type": "code",
   "execution_count": null,
   "id": "7802b81a",
   "metadata": {
    "execution": {
     "iopub.execute_input": "2022-04-19T21:48:52.155684Z",
     "iopub.status.busy": "2022-04-19T21:48:52.155445Z",
     "iopub.status.idle": "2022-04-19T21:48:55.103042Z",
     "shell.execute_reply": "2022-04-19T21:48:55.102329Z",
     "shell.execute_reply.started": "2022-04-19T21:48:52.15565Z"
    },
    "papermill": {
     "duration": null,
     "end_time": null,
     "exception": null,
     "start_time": null,
     "status": "pending"
    },
    "tags": []
   },
   "outputs": [],
   "source": [
    "finalheights =  np.loadtxt('/kaggle/input/heights/finalheights.csv', delimiter=\",\")\n",
    "finalmoves = finalmoves.drop('Unnamed: 0', axis= 1)"
   ]
  },
  {
   "cell_type": "markdown",
   "id": "1563f069",
   "metadata": {
    "papermill": {
     "duration": null,
     "end_time": null,
     "exception": null,
     "start_time": null,
     "status": "pending"
    },
    "tags": []
   },
   "source": [
    "Encode moves, shuffle and reshape grids "
   ]
  },
  {
   "cell_type": "code",
   "execution_count": null,
   "id": "bb21951d",
   "metadata": {
    "execution": {
     "iopub.execute_input": "2022-04-19T16:07:12.515068Z",
     "iopub.status.busy": "2022-04-19T16:07:12.514401Z",
     "iopub.status.idle": "2022-04-19T16:07:12.524239Z",
     "shell.execute_reply": "2022-04-19T16:07:12.523534Z",
     "shell.execute_reply.started": "2022-04-19T16:07:12.515028Z"
    },
    "papermill": {
     "duration": null,
     "end_time": null,
     "exception": null,
     "start_time": null,
     "status": "pending"
    },
    "tags": []
   },
   "outputs": [],
   "source": [
    "def unison_shuffled_copies(a, b):\n",
    "    assert len(a) == len(b)\n",
    "    p = np.random.permutation(len(a))\n",
    "    return a[p], b[p]\n",
    "def transform_g_m(g,y):\n",
    "    \n",
    "    label_encoder = LabelEncoder()\n",
    "    integer_encoded = label_encoder.fit_transform(y)\n",
    "    onehot_encoder = OneHotEncoder(sparse=False)\n",
    "    integer_encoded = integer_encoded.reshape(len(integer_encoded), 1)\n",
    "    y = onehot_encoder.fit_transform(integer_encoded)\n",
    "    X = g.reshape((-1,20,10,1))\n",
    "    X = X.astype(np.short)\n",
    "    y = y.astype(np.short)\n",
    "    X, y = unison_shuffled_copies(X,y)\n",
    "    return X,y"
   ]
  },
  {
   "cell_type": "code",
   "execution_count": null,
   "id": "1471e53f",
   "metadata": {
    "execution": {
     "iopub.execute_input": "2022-04-19T16:07:13.514362Z",
     "iopub.status.busy": "2022-04-19T16:07:13.514068Z",
     "iopub.status.idle": "2022-04-19T16:07:13.729033Z",
     "shell.execute_reply": "2022-04-19T16:07:13.727386Z",
     "shell.execute_reply.started": "2022-04-19T16:07:13.514324Z"
    },
    "papermill": {
     "duration": null,
     "end_time": null,
     "exception": null,
     "start_time": null,
     "status": "pending"
    },
    "tags": []
   },
   "outputs": [],
   "source": [
    "X, y = transform_g_m(finalgrids,finalmoves)"
   ]
  },
  {
   "cell_type": "code",
   "execution_count": null,
   "id": "70c6a9ce",
   "metadata": {
    "execution": {
     "iopub.execute_input": "2022-04-19T08:57:32.440733Z",
     "iopub.status.busy": "2022-04-19T08:57:32.440175Z",
     "iopub.status.idle": "2022-04-19T08:57:32.554095Z",
     "shell.execute_reply": "2022-04-19T08:57:32.553366Z",
     "shell.execute_reply.started": "2022-04-19T08:57:32.440685Z"
    },
    "papermill": {
     "duration": null,
     "end_time": null,
     "exception": null,
     "start_time": null,
     "status": "pending"
    },
    "tags": []
   },
   "outputs": [],
   "source": [
    "\n",
    "from tensorflow.keras.optimizers import SGD\n",
    "from tensorflow.keras import optimizers\n",
    "from tensorflow.keras.optimizers import schedules\n",
    "from keras.models import Model\n",
    "from tensorflow.keras.layers import concatenate\n",
    "\n",
    "\n",
    "from tensorflow.keras.optimizers import schedules\n",
    "lr_schedule = schedules.ExponentialDecay(\n",
    "    initial_learning_rate=1e-2,\n",
    "    decay_steps=10000,\n",
    "    decay_rate=0.9)\n",
    "optimizer = SGD(lr_schedule)\n",
    "\n",
    "\n",
    "input_ = Input(shape=(20,10,1))\n",
    "x = Conv2D(1024, (2, 2) , activation='relu')(input_)\n",
    "x = Conv2D(512, (2, 2) ,strides =(1,1), activation='relu')(x)\n",
    "x = BatchNormalization()(x)\n",
    "x = Conv2D(256, (1, 1) ,strides =(2,2), activation='tanh')(x)\n",
    "x = Conv2D(128, (1, 1) ,strides =(1,1),padding='same', activation='tanh')(x)\n",
    "x = Conv2D(64, (1, 1) ,strides =(1,1),padding='same', activation='tanh')(x)\n",
    "x = Flatten()(x)\n",
    "x = Dropout(0.2)(x)\n",
    "x = Dense(128, activation='tanh')(x)\n",
    "x = Dropout(0.1)(x)\n",
    "x = Dense(64, activation='tanh')(x)\n",
    "x= Dense(512, activation='tanh')(x)\n",
    "x = Dropout(0.1)(x)\n",
    "x = Dense(16, activation='tanh')(x)\n",
    "x = Dense(4, activation='softmax')(x)\n",
    "model = Model(inputs=input_, outputs=x)\n",
    "model.compile(loss='categorical_crossentropy',\n",
    "                optimizer=optimizer,\n",
    "              metrics=['accuracy', \"categorical_accuracy\"])\n",
    "model.summary()"
   ]
  },
  {
   "cell_type": "code",
   "execution_count": null,
   "id": "43291a96",
   "metadata": {
    "execution": {
     "iopub.execute_input": "2022-04-19T08:58:08.523573Z",
     "iopub.status.busy": "2022-04-19T08:58:08.523309Z",
     "iopub.status.idle": "2022-04-19T08:58:09.946215Z",
     "shell.execute_reply": "2022-04-19T08:58:09.94523Z",
     "shell.execute_reply.started": "2022-04-19T08:58:08.523544Z"
    },
    "papermill": {
     "duration": null,
     "end_time": null,
     "exception": null,
     "start_time": null,
     "status": "pending"
    },
    "tags": []
   },
   "outputs": [],
   "source": [
    "import keras\n",
    "from tensorflow.keras.utils import plot_model\n",
    "plot_model(model,show_shapes=True)\n",
    "callbacks = [tf.keras.callbacks.EarlyStopping(monitor='val_loss', patience=2),\n",
    "             tf.keras.callbacks.ModelCheckpoint(filepath='best_model.h5', monitor='val_loss', save_best_only=True), \n",
    "             keras.callbacks.TensorBoard(log_dir='./Graph', histogram_freq=0, write_graph=True, write_images=True)]"
   ]
  },
  {
   "cell_type": "code",
   "execution_count": null,
   "id": "ac8c6911",
   "metadata": {
    "execution": {
     "iopub.execute_input": "2022-04-19T16:07:17.978259Z",
     "iopub.status.busy": "2022-04-19T16:07:17.977997Z",
     "iopub.status.idle": "2022-04-19T16:07:20.194932Z",
     "shell.execute_reply": "2022-04-19T16:07:20.194208Z",
     "shell.execute_reply.started": "2022-04-19T16:07:17.978224Z"
    },
    "papermill": {
     "duration": null,
     "end_time": null,
     "exception": null,
     "start_time": null,
     "status": "pending"
    },
    "tags": []
   },
   "outputs": [],
   "source": [
    "from sklearn.model_selection import train_test_split\n",
    "X_train, X_test, y_train, y_test = train_test_split( X, y, test_size=0.1, random_state=42, stratify = y)"
   ]
  },
  {
   "cell_type": "code",
   "execution_count": null,
   "id": "c3a689de",
   "metadata": {
    "execution": {
     "iopub.execute_input": "2022-04-19T09:00:33.523494Z",
     "iopub.status.busy": "2022-04-19T09:00:33.522686Z",
     "iopub.status.idle": "2022-04-19T09:33:33.82275Z",
     "shell.execute_reply": "2022-04-19T09:33:33.821116Z",
     "shell.execute_reply.started": "2022-04-19T09:00:33.523441Z"
    },
    "papermill": {
     "duration": null,
     "end_time": null,
     "exception": null,
     "start_time": null,
     "status": "pending"
    },
    "tags": []
   },
   "outputs": [],
   "source": [
    "model.fit(x=X_train ,y=y_train,batch_size=64,epochs=30, validation_split=0.2, callbacks = callbacks)"
   ]
  },
  {
   "cell_type": "markdown",
   "id": "b4c71a64",
   "metadata": {
    "papermill": {
     "duration": null,
     "end_time": null,
     "exception": null,
     "start_time": null,
     "status": "pending"
    },
    "tags": []
   },
   "source": [
    "### Model two inputs"
   ]
  },
  {
   "cell_type": "code",
   "execution_count": null,
   "id": "dafcaf8e",
   "metadata": {
    "execution": {
     "iopub.execute_input": "2022-04-19T21:48:55.104737Z",
     "iopub.status.busy": "2022-04-19T21:48:55.104451Z",
     "iopub.status.idle": "2022-04-19T21:48:55.111814Z",
     "shell.execute_reply": "2022-04-19T21:48:55.111174Z",
     "shell.execute_reply.started": "2022-04-19T21:48:55.104671Z"
    },
    "papermill": {
     "duration": null,
     "end_time": null,
     "exception": null,
     "start_time": null,
     "status": "pending"
    },
    "tags": []
   },
   "outputs": [],
   "source": [
    "def unison_shuffled_copies(a, b, c):\n",
    "    assert len(a) == len(b)\n",
    "    p = np.random.permutation(len(a))\n",
    "    return a[p], b[p], c[p]\n",
    "def transform_g_m(g,y,h):\n",
    "    \n",
    "    label_encoder = LabelEncoder()\n",
    "    integer_encoded = label_encoder.fit_transform(y)\n",
    "    onehot_encoder = OneHotEncoder(sparse=False)\n",
    "    integer_encoded = integer_encoded.reshape(len(integer_encoded), 1)\n",
    "    y = onehot_encoder.fit_transform(integer_encoded)\n",
    "    X = g.reshape((-1,20,10,1))\n",
    "    X = X.astype(np.short)\n",
    "    y = y.astype(np.short)\n",
    "    X, y,h = unison_shuffled_copies(X,y,h)\n",
    "    return X,y,h"
   ]
  },
  {
   "cell_type": "code",
   "execution_count": null,
   "id": "fef04937",
   "metadata": {
    "execution": {
     "iopub.execute_input": "2022-04-19T21:48:55.113992Z",
     "iopub.status.busy": "2022-04-19T21:48:55.113587Z",
     "iopub.status.idle": "2022-04-19T21:48:55.353336Z",
     "shell.execute_reply": "2022-04-19T21:48:55.352581Z",
     "shell.execute_reply.started": "2022-04-19T21:48:55.113956Z"
    },
    "papermill": {
     "duration": null,
     "end_time": null,
     "exception": null,
     "start_time": null,
     "status": "pending"
    },
    "tags": []
   },
   "outputs": [],
   "source": [
    "X, Y , h = transform_g_m(finalgrids,finalmoves,finalheights)"
   ]
  },
  {
   "cell_type": "code",
   "execution_count": null,
   "id": "8bbb0530",
   "metadata": {
    "execution": {
     "iopub.execute_input": "2022-04-19T21:05:19.666403Z",
     "iopub.status.busy": "2022-04-19T21:05:19.666063Z",
     "iopub.status.idle": "2022-04-19T21:05:19.852606Z",
     "shell.execute_reply": "2022-04-19T21:05:19.851685Z",
     "shell.execute_reply.started": "2022-04-19T21:05:19.666372Z"
    },
    "papermill": {
     "duration": null,
     "end_time": null,
     "exception": null,
     "start_time": null,
     "status": "pending"
    },
    "tags": []
   },
   "outputs": [],
   "source": [
    "\n",
    "from tensorflow.keras.optimizers import SGD\n",
    "from tensorflow.keras import optimizers\n",
    "from tensorflow.keras.optimizers import schedules\n",
    "from keras.models import Model\n",
    "from tensorflow.keras.layers import concatenate\n",
    "\n",
    "\n",
    "from tensorflow.keras.optimizers import schedules\n",
    "lr_schedule = schedules.ExponentialDecay(\n",
    "    initial_learning_rate=1e-2,\n",
    "    decay_steps=10000,\n",
    "    decay_rate=0.9)\n",
    "optimizer = SGD(lr_schedule)\n",
    "\n",
    "\n",
    "inputA = Input(shape=(20,10,1))\n",
    "x = Conv2D(512, (2, 2) , activation='relu')(inputA)\n",
    "x = MaxPooling2D(strides =(1,1),padding='same')(x)\n",
    "x = Conv2D(256, (2, 2) ,strides =(1,1), activation='relu')(x)\n",
    "x = BatchNormalization()(x)\n",
    "x = Conv2D(512, (1, 1) ,strides =(2,2), activation='relu')(x)\n",
    "x = Conv2D(128, (1, 1) ,strides =(1,1),padding='same', activation='relu')(x)\n",
    "x = Conv2D(64, (1, 1) ,strides =(1,1),padding='same', activation='tanh')(x)\n",
    "x = Flatten()(x)\n",
    "x = Dense(512, activation='tanh')(x)\n",
    "x = Dropout(0.2)(x)\n",
    "x = Dense(64, activation='tanh')(x)\n",
    "x = Model(inputs=inputA, outputs=x)\n",
    "\n",
    "inputB = Input(shape=(10,))\n",
    "y = Dense(128, activation=\"relu\")(inputB)\n",
    "y = Dropout(0.1)(y)\n",
    "y = Dense(64, activation=\"relu\")(y)\n",
    "y = Dense(64, activation=\"tanh\")(y)\n",
    "y = Model(inputs=inputB, outputs=y)\n",
    "\n",
    "combined = concatenate([x.output, y.output])\n",
    "\n",
    "\n",
    "z= Dense(512, activation='tanh')(combined)\n",
    "z = Dropout(0.1)(z)\n",
    "z = Dense(16, activation='tanh')(z)\n",
    "z = Dense(4, activation='softmax')(z)\n",
    "model = Model(inputs=[x.input, y.input], outputs=z)\n",
    "\n",
    "\n",
    "\n",
    "model.compile(loss='categorical_crossentropy',\n",
    "                optimizer=optimizer,\n",
    "              metrics=['accuracy', \"categorical_accuracy\"])\n",
    "model.summary()"
   ]
  },
  {
   "cell_type": "code",
   "execution_count": null,
   "id": "c419df9c",
   "metadata": {
    "execution": {
     "iopub.execute_input": "2022-04-19T16:17:48.785669Z",
     "iopub.status.busy": "2022-04-19T16:17:48.785256Z",
     "iopub.status.idle": "2022-04-19T16:17:51.306266Z",
     "shell.execute_reply": "2022-04-19T16:17:51.305229Z",
     "shell.execute_reply.started": "2022-04-19T16:17:48.785628Z"
    },
    "papermill": {
     "duration": null,
     "end_time": null,
     "exception": null,
     "start_time": null,
     "status": "pending"
    },
    "tags": []
   },
   "outputs": [],
   "source": [
    "from sklearn.model_selection import train_test_split\n",
    "X_train, X_test, h_train, h_test, y_train, y_test = train_test_split( X,h, Y, test_size=0.1, random_state=42, stratify = Y)"
   ]
  },
  {
   "cell_type": "code",
   "execution_count": null,
   "id": "cef83b48",
   "metadata": {
    "execution": {
     "iopub.execute_input": "2022-04-19T16:17:51.886685Z",
     "iopub.status.busy": "2022-04-19T16:17:51.886228Z",
     "iopub.status.idle": "2022-04-19T16:17:53.37947Z",
     "shell.execute_reply": "2022-04-19T16:17:53.377069Z",
     "shell.execute_reply.started": "2022-04-19T16:17:51.886638Z"
    },
    "papermill": {
     "duration": null,
     "end_time": null,
     "exception": null,
     "start_time": null,
     "status": "pending"
    },
    "tags": []
   },
   "outputs": [],
   "source": [
    "import keras\n",
    "from tensorflow.keras.utils import plot_model\n",
    "plot_model(model,show_shapes=True)\n",
    "callbacks = [tf.keras.callbacks.EarlyStopping(monitor='val_loss', patience=2),\n",
    "             tf.keras.callbacks.ModelCheckpoint(filepath='best_model.h5', monitor='val_loss', save_best_only=True), keras.callbacks.TensorBoard(log_dir='./Graph', histogram_freq=0, write_graph=True, write_images=True)]\n",
    "\n"
   ]
  },
  {
   "cell_type": "code",
   "execution_count": null,
   "id": "6c571850",
   "metadata": {
    "execution": {
     "iopub.execute_input": "2022-04-19T15:43:42.955096Z",
     "iopub.status.busy": "2022-04-19T15:43:42.954701Z"
    },
    "papermill": {
     "duration": null,
     "end_time": null,
     "exception": null,
     "start_time": null,
     "status": "pending"
    },
    "tags": []
   },
   "outputs": [],
   "source": [
    "model.fit(x=[X_train,h_train], y=y_train,batch_size=128,epochs=30, validation_split=0.2, callbacks = callbacks)"
   ]
  },
  {
   "cell_type": "markdown",
   "id": "6852f5fd",
   "metadata": {
    "papermill": {
     "duration": null,
     "end_time": null,
     "exception": null,
     "start_time": null,
     "status": "pending"
    },
    "tags": []
   },
   "source": [
    "### AlexNet"
   ]
  },
  {
   "cell_type": "code",
   "execution_count": null,
   "id": "a781aff7",
   "metadata": {
    "execution": {
     "iopub.execute_input": "2022-04-19T21:50:04.802099Z",
     "iopub.status.busy": "2022-04-19T21:50:04.801832Z",
     "iopub.status.idle": "2022-04-19T21:50:05.0159Z",
     "shell.execute_reply": "2022-04-19T21:50:05.015149Z",
     "shell.execute_reply.started": "2022-04-19T21:50:04.802066Z"
    },
    "papermill": {
     "duration": null,
     "end_time": null,
     "exception": null,
     "start_time": null,
     "status": "pending"
    },
    "tags": []
   },
   "outputs": [],
   "source": [
    "\n",
    "from tensorflow.keras.optimizers import SGD\n",
    "from tensorflow.keras import optimizers\n",
    "from tensorflow.keras.optimizers import schedules\n",
    "from keras.models import Model\n",
    "from tensorflow.keras.layers import concatenate\n",
    "\n",
    "\n",
    "from tensorflow.keras.optimizers import schedules\n",
    "lr_schedule = schedules.ExponentialDecay(\n",
    "    initial_learning_rate=1e-2,\n",
    "    decay_steps=10000,\n",
    "    decay_rate=0.9)\n",
    "optimizer = SGD(lr_schedule)\n",
    "\n",
    "#Input\n",
    "inputA = Input(shape=(20,10,1))\n",
    "\n",
    "# Layer 1\n",
    "x = Conv2D(96, (2, 2) ,padding='same')(inputA)\n",
    "x = BatchNormalization()(x)\n",
    "x = Activation('relu')(x)\n",
    "\n",
    "# Layer 2\n",
    "x = Conv2D(256, (3, 3) ,strides =(1,1),padding='same')(x)\n",
    "x = BatchNormalization()(x)\n",
    "x = Activation('relu')(x)\n",
    "x = MaxPooling2D(pool_size=(2, 2))(x)\n",
    "\n",
    "# Layer 3\n",
    "x = ZeroPadding2D((1, 1))(x)\n",
    "x = Conv2D(512, (3, 3), padding='same')(x)\n",
    "x = BatchNormalization()(x)\n",
    "x = Activation('relu')(x)\n",
    "x = MaxPooling2D(pool_size=(2, 2))(x)\n",
    "\n",
    "# Layer 4\n",
    "x = ZeroPadding2D((1, 1))(x)\n",
    "x = Conv2D(384, (3, 3), padding='same')(x)\n",
    "x = BatchNormalization()(x)\n",
    "x = Activation('relu')(x)\n",
    "\n",
    "# Layer 5\n",
    "x = ZeroPadding2D((1, 1))(x)\n",
    "x = Conv2D(1024, (3, 3), padding='same')(x)\n",
    "x = BatchNormalization()(x)\n",
    "x = Activation('relu')(x)\n",
    "x = MaxPooling2D(pool_size=(2, 2))(x)\n",
    "\n",
    "\n",
    "# Layer 6\n",
    "x = Flatten()(x)\n",
    "x = Dense(512)(x)\n",
    "x = BatchNormalization()(x)\n",
    "x = Activation('relu')(x)\n",
    "x = Dropout(0.5)(x)\n",
    "# x = Model(inputs=inputA, outputs=x)\n",
    "\n",
    "# inputB = Input(shape=(10,))\n",
    "\n",
    "# y = Dense(128)(inputB)\n",
    "# y = BatchNormalization()(y)\n",
    "# y = Activation('relu')(y)\n",
    "# y = Dropout(0.5)(y)\n",
    "\n",
    "# y = Dense(512)(inputB)\n",
    "# y = BatchNormalization()(y)\n",
    "# y = Activation('relu')(y)\n",
    "# y = Dropout(0.5)(y)\n",
    "# y = Model(inputs=inputB, outputs=y)\n",
    "# combined = concatenate([x.output, y.output])\n",
    "\n",
    "z = Dense(512)(x)\n",
    "z = BatchNormalization()(z)\n",
    "z = Activation('relu')(z)\n",
    "z = Dropout(0.5)(z)\n",
    "\n",
    "# Layer 7\n",
    "z = Dense(1024)(x)\n",
    "z = BatchNormalization()(z)\n",
    "z = Activation('relu')(z)\n",
    "z = Dropout(0.5)(z)\n",
    "z = Dense(4, activation='softmax')(z)\n",
    "\n",
    "# model = Model(inputs=[x.input, y.input], outputs=z)\n",
    "model = Model(inputs=inputA, outputs=z)\n",
    "\n",
    "\n",
    "model.compile(loss='categorical_crossentropy',\n",
    "                optimizer=optimizer,\n",
    "              metrics=['accuracy', \"categorical_accuracy\"])\n",
    "model.summary()"
   ]
  },
  {
   "cell_type": "code",
   "execution_count": null,
   "id": "2bb519ed",
   "metadata": {
    "execution": {
     "iopub.execute_input": "2022-04-19T21:50:13.093871Z",
     "iopub.status.busy": "2022-04-19T21:50:13.093235Z",
     "iopub.status.idle": "2022-04-19T21:50:16.756507Z",
     "shell.execute_reply": "2022-04-19T21:50:16.755402Z",
     "shell.execute_reply.started": "2022-04-19T21:50:13.093822Z"
    },
    "papermill": {
     "duration": null,
     "end_time": null,
     "exception": null,
     "start_time": null,
     "status": "pending"
    },
    "tags": []
   },
   "outputs": [],
   "source": [
    "from sklearn.model_selection import train_test_split\n",
    "X_train, X_test, h_train, h_test, y_train, y_test = train_test_split( X,h, Y, test_size=0.1, random_state=42, stratify = Y)\n",
    "import keras\n",
    "from tensorflow.keras.utils import plot_model\n",
    "plot_model(model,show_shapes=True)\n",
    "callbacks = [tf.keras.callbacks.EarlyStopping(monitor='val_loss', patience=4),\n",
    "             tf.keras.callbacks.ModelCheckpoint(filepath='best_model.h5', monitor='val_loss', save_best_only=True), keras.callbacks.TensorBoard(log_dir='./Graph', histogram_freq=0, write_graph=True, write_images=True)]\n"
   ]
  },
  {
   "cell_type": "code",
   "execution_count": null,
   "id": "45983744",
   "metadata": {
    "execution": {
     "iopub.execute_input": "2022-04-19T21:50:16.758817Z",
     "iopub.status.busy": "2022-04-19T21:50:16.758542Z",
     "iopub.status.idle": "2022-04-19T22:07:09.989879Z",
     "shell.execute_reply": "2022-04-19T22:07:09.989184Z",
     "shell.execute_reply.started": "2022-04-19T21:50:16.758779Z"
    },
    "papermill": {
     "duration": null,
     "end_time": null,
     "exception": null,
     "start_time": null,
     "status": "pending"
    },
    "tags": []
   },
   "outputs": [],
   "source": [
    "model.fit(x=X_train, y=y_train,batch_size=64,epochs=30, validation_split=0.2, callbacks = callbacks)"
   ]
  },
  {
   "cell_type": "code",
   "execution_count": null,
   "id": "9154ad0d",
   "metadata": {
    "papermill": {
     "duration": null,
     "end_time": null,
     "exception": null,
     "start_time": null,
     "status": "pending"
    },
    "tags": []
   },
   "outputs": [],
   "source": [
    "y_pred = model.predict(X_test)"
   ]
  },
  {
   "cell_type": "code",
   "execution_count": null,
   "id": "dc95fca0",
   "metadata": {
    "execution": {
     "iopub.execute_input": "2022-04-19T22:07:10.009234Z",
     "iopub.status.busy": "2022-04-19T22:07:10.008925Z",
     "iopub.status.idle": "2022-04-19T22:07:10.015668Z",
     "shell.execute_reply": "2022-04-19T22:07:10.014653Z",
     "shell.execute_reply.started": "2022-04-19T22:07:10.009198Z"
    },
    "papermill": {
     "duration": null,
     "end_time": null,
     "exception": null,
     "start_time": null,
     "status": "pending"
    },
    "tags": []
   },
   "outputs": [],
   "source": [
    "from sklearn.metrics import classification_report\n",
    "print(classification_report(y_val,y_pred))"
   ]
  },
  {
   "cell_type": "code",
   "execution_count": null,
   "id": "1df6448d",
   "metadata": {
    "execution": {
     "iopub.execute_input": "2022-04-19T21:02:54.7628Z",
     "iopub.status.busy": "2022-04-19T21:02:54.76252Z",
     "iopub.status.idle": "2022-04-19T21:02:54.799744Z",
     "shell.execute_reply": "2022-04-19T21:02:54.798237Z",
     "shell.execute_reply.started": "2022-04-19T21:02:54.762771Z"
    },
    "papermill": {
     "duration": null,
     "end_time": null,
     "exception": null,
     "start_time": null,
     "status": "pending"
    },
    "tags": []
   },
   "outputs": [],
   "source": [
    "from sklearn.metrics import roc_curve\n",
    "import matplotlib.pyplot as plt\n",
    "fpr, tpr, thresholds = roc_curve(y_val,y_pred)\n",
    "\n",
    "plt.plot(fpr, tpr, label='ROC curve')\n",
    "plt.plot([0, 1], [0, 1], 'k--', label='Random guess')\n",
    "plt.xlabel('False Positive Rate')\n",
    "plt.ylabel('True Positive Rate')\n",
    "plt.title('ROC Curve')\n",
    "plt.xlim([-0.02, 1])\n",
    "plt.ylim([0, 1.02])\n",
    "plt.legend(loc=\"lower right\")"
   ]
  },
  {
   "cell_type": "code",
   "execution_count": null,
   "id": "4589d22b",
   "metadata": {
    "papermill": {
     "duration": null,
     "end_time": null,
     "exception": null,
     "start_time": null,
     "status": "pending"
    },
    "tags": []
   },
   "outputs": [],
   "source": []
  }
 ],
 "metadata": {
  "kernelspec": {
   "display_name": "Python 3",
   "language": "python",
   "name": "python3"
  },
  "language_info": {
   "codemirror_mode": {
    "name": "ipython",
    "version": 3
   },
   "file_extension": ".py",
   "mimetype": "text/x-python",
   "name": "python",
   "nbconvert_exporter": "python",
   "pygments_lexer": "ipython3",
   "version": "3.7.12"
  },
  "papermill": {
   "default_parameters": {},
   "duration": 8.798311,
   "end_time": "2022-04-19T22:46:40.369670",
   "environment_variables": {},
   "exception": true,
   "input_path": "__notebook__.ipynb",
   "output_path": "__notebook__.ipynb",
   "parameters": {},
   "start_time": "2022-04-19T22:46:31.571359",
   "version": "2.3.3"
  }
 },
 "nbformat": 4,
 "nbformat_minor": 5
}
